{
 "cells": [
  {
   "cell_type": "markdown",
   "metadata": {},
   "source": [
    "## Data description\n",
    "### The xlsx file contained 2 importance sheets: conversation_1 and conversation_2\n",
    "\n",
    "Each sheet has 7 columns:\n",
    "    \n",
    "    - 'customer'    : Text from customer \n",
    "    \n",
    "        - note: the word \"action_outside\" declared customer had taken some action outside the Facebook messager (commented on the post,..) after that, the shop wrote some responses.\n",
    "        \n",
    "    - 'shop',       : Text from shop.\n",
    "    \n",
    "    - 'label',      : id of customer and name of shop.\n",
    "    \n",
    "    - 'fixed_time', : the date and time that the action is took place.\n",
    "    \n",
    "    - 'stl',        : aka (second to last), time in second between the current text and the text on the upper row.\n",
    "    \n",
    "    - 'str_ttl',    : same as above but in better format.\n",
    "    \n",
    "    - 'cat'         : label\n",
    "        - cat == start_conversation : the moment started that conversation\n",
    "        \n"
   ]
  },
  {
   "cell_type": "markdown",
   "metadata": {},
   "source": [
    "## Tasks\n",
    "\n",
    "    - Performing data analysis:\n",
    "        \n",
    "        - Which information you can extract from that data ?\n",
    "        \n",
    "        - Show me the insight you can get in the way non-tech person can understand what you are doing.\n",
    "\n",
    "    - Build a customer profile\n",
    "\n",
    "**Note: Please write clean-clear code, comments on your code and also annotation on figures/charts (if any)!**"
   ]
  },
  {
   "cell_type": "code",
   "execution_count": 3,
   "metadata": {},
   "outputs": [
    {
     "data": {
      "image/png": "[encoded data removed]",
      "text/plain": [
       "<Figure size 432x288 with 1 Axes>"
      ]
     },
     "metadata": {
      "needs_background": "light"
     },
     "output_type": "display_data"
    },
    {
     "data": {
      "text/plain": [
       "<Figure size 720x7200 with 0 Axes>"
      ]
     },
     "metadata": {},
     "output_type": "display_data"
    },
    {
     "data": {
      "image/png": "[encoded data removed]",
      "text/plain": [
       "<Figure size 432x288 with 1 Axes>"
      ]
     },
     "metadata": {
      "needs_background": "light"
     },
     "output_type": "display_data"
    },
    {
     "data": {
      "text/plain": [
       "<Figure size 720x7200 with 0 Axes>"
      ]
     },
     "metadata": {},
     "output_type": "display_data"
    }
   ],
   "source": [
    "import pandas as pd\n",
    "import numpy as np\n",
    "import io\n",
    "import matplotlib.pyplot as plt\n",
    "\n",
    "\n",
    "def plotWordFrequency(excel_file_path, sheet, column, plot_title, additional_unnecessary_words=None):\n",
    "    if additional_unnecessary_words is None:\n",
    "        additional_unnecessary_words = []\n",
    "    xls = pd.ExcelFile(excel_file_path)\n",
    "    df = pd.read_excel(xls, sheet)\n",
    "    df[column] = df[column].str.lower()\n",
    "    word_count = df.customer.str.split(expand=True).stack().value_counts()\n",
    "\n",
    "    # read stop words from file\n",
    "    with io.open(\"vn_stopwords.txt\", \"r\", encoding=\"utf-8\") as my_file:\n",
    "        vn_stopwords = my_file.read()\n",
    "    vn_stopwords = vn_stopwords.splitlines()\n",
    "    unnecessary_words = ['url', 'u', 'e', 'o', 'a', 'i', 'c', 'b', 'la', 'giup', 'oi', 'gui', 'nhg', 'chi', 'minh',\n",
    "                         'shop',\n",
    "                         'lam', 'tam', 'nhat', 'dung', 'mua', 'co', 'ko',\n",
    "                         'a?',\n",
    "                         'ko?', 'ok', '1', '2', '3', '4', 'dc', 'ạ?', ]\n",
    "    all_stopwords = vn_stopwords + unnecessary_words + additional_unnecessary_words\n",
    "\n",
    "    # remove stop word from word_count\n",
    "    word_count = word_count.drop(all_stopwords, errors='ignore')\n",
    "    word_count = word_count[word_count > 3]\n",
    "\n",
    "    # word_count.hist()\n",
    "    word_count.plot.barh()\n",
    "    plt.suptitle(plot_title)\n",
    "    plt.ylabel('Words')\n",
    "    plt.yticks(fontsize=8)\n",
    "    plt.xlabel('Frequency')\n",
    "    plt.figure(figsize=(10, 100))\n",
    "    plt.show()\n",
    "\n",
    "\n",
    "additional_unnecessary_words = ['action_outside', 't', 'có', 'nhé', 'ko', 'cho', 'ơi', 'mình', 'này', 'lấy', 'k', 'còn',\n",
    "                                'bạn',\n",
    "                                'bn', 'tớ', 'thanh', 'm', 'là', '.', 'ah', 'làng', 'dãy', 'đi', 'báo', 'máy', 'châu',\n",
    "                                'giúp',\n",
    "                                '15', 'ui', 'nhá', 'quây', 'j', 'x', 'bên', 'cái', 'ah', 'luôn', '2', 'nữa', 'số',\n",
    "                                'ntnao',\n",
    "                                'dchi', 'ơn', 'r', 'km', 'kia', 'trc', '1m32', 'pha', 'góc', 'í', '-', '?', 'sz', 'sợ',\n",
    "                                'oki',\n",
    "                                '0936875999', '+', 'hình', 'ck', 'alo', 'mấy', 'hộ', 'món', 'kệ', 'cảm', '&', 'ngô',\n",
    "                                'bí',\n",
    "                                'nhé.', 'hà', 'việt', 'đồ', 'âu', 'thước', '16a7', '1c', 'hả', 'kích']\n",
    "#\n",
    "plotWordFrequency('conversations.xlsx', '0', 'customer', 'Customer Conversation 1')\n",
    "plotWordFrequency('conversations.xlsx', '1', 'customer', 'Customer Conversation 2', additional_unnecessary_words)\n"
   ]
  },
  {
   "cell_type": "code",
   "execution_count": null,
   "metadata": {},
   "outputs": [],
   "source": []
  },
  {
   "cell_type": "code",
   "execution_count": null,
   "metadata": {},
   "outputs": [],
   "source": []
  },
  {
   "cell_type": "code",
   "execution_count": null,
   "metadata": {},
   "outputs": [],
   "source": []
  },
  {
   "cell_type": "code",
   "execution_count": null,
   "metadata": {},
   "outputs": [],
   "source": []
  },
  {
   "cell_type": "code",
   "execution_count": null,
   "metadata": {},
   "outputs": [],
   "source": []
  },
  {
   "cell_type": "code",
   "execution_count": null,
   "metadata": {},
   "outputs": [],
   "source": []
  },
  {
   "cell_type": "code",
   "execution_count": null,
   "metadata": {},
   "outputs": [],
   "source": []
  },
  {
   "cell_type": "code",
   "execution_count": null,
   "metadata": {},
   "outputs": [],
   "source": []
  },
  {
   "cell_type": "code",
   "execution_count": null,
   "metadata": {},
   "outputs": [],
   "source": []
  },
  {
   "cell_type": "code",
   "execution_count": null,
   "metadata": {},
   "outputs": [],
   "source": []
  },
  {
   "cell_type": "code",
   "execution_count": null,
   "metadata": {},
   "outputs": [],
   "source": []
  },
  {
   "cell_type": "code",
   "execution_count": null,
   "metadata": {},
   "outputs": [],
   "source": []
  },
  {
   "cell_type": "code",
   "execution_count": null,
   "metadata": {},
   "outputs": [],
   "source": []
  },
  {
   "cell_type": "code",
   "execution_count": null,
   "metadata": {},
   "outputs": [],
   "source": []
  }
 ],
 "metadata": {
  "kernelspec": {
   "display_name": "Python 3",
   "language": "python",
   "name": "python3"
  },
  "language_info": {
   "codemirror_mode": {
    "name": "ipython",
    "version": 3
   },
   "file_extension": ".py",
   "mimetype": "text/x-python",
   "name": "python",
   "nbconvert_exporter": "python",
   "pygments_lexer": "ipython3",
   "version": "3.7.6"
  },
  "pycharm": {
   "stem_cell": {
    "cell_type": "raw",
    "metadata": {
     "collapsed": false
    },
    "source": []
   }
  }
 },
 "nbformat": 4,
 "nbformat_minor": 4
}
