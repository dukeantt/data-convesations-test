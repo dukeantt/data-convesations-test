{
 "cells": [
  {
   "cell_type": "markdown",
   "metadata": {},
   "source": [
    "## Data description\n",
    "### The xlsx file contained 2 importance sheets: conversation_1 and conversation_2\n",
    "\n",
    "Each sheet has 7 columns:\n",
    "    \n",
    "    - 'customer'    : Text from customer \n",
    "    \n",
    "        - note: the word \"action_outside\" declared customer had taken some action outside the Facebook messager (commented on the post,..) after that, the shop wrote some responses.\n",
    "        \n",
    "    - 'shop',       : Text from shop.\n",
    "    \n",
    "    - 'label',      : id of customer and name of shop.\n",
    "    \n",
    "    - 'fixed_time', : the date and time that the action is took place.\n",
    "    \n",
    "    - 'stl',        : aka (second to last), time in second between the current text and the text on the upper row.\n",
    "    \n",
    "    - 'str_ttl',    : same as above but in better format.\n",
    "    \n",
    "    - 'cat'         : label\n",
    "        - cat == start_conversation : the moment started that conversation\n",
    "        \n"
   ]
  },
  {
   "cell_type": "markdown",
   "metadata": {},
   "source": [
    "## Tasks\n",
    "\n",
    "    - Performing data analysis:\n",
    "        \n",
    "        - Which information you can extract from that data ?\n",
    "        \n",
    "        - Show me the insight you can get in the way non-tech person can understand what you are doing.\n",
    "\n",
    "    - Build a customer profile\n",
    "\n",
    "**Note: Please write clean-clear code, comments on your code and also annotation on figures/charts (if any)!**"
   ]
  },
  {
   "cell_type": "code",
   "execution_count": 4,
   "metadata": {},
   "outputs": [
    {
     "name": "stdout",
     "output_type": "stream",
     "text": [
      "                                              customer  \\\n",
      "0    Chào bạn, minh dang muon mua xe đẩy và máy hút...   \n",
      "1                                                  NaN   \n",
      "2                                                   Ok   \n",
      "3    Chào bạn, minh dang muon mua xe đẩy và máy hút...   \n",
      "4                                                  NaN   \n",
      "..                                                 ...   \n",
      "242                                                NaN   \n",
      "243                                T bán may hút roi ạ   \n",
      "244                              B up địu thôi dc ko ạ   \n",
      "245                                               Thks   \n",
      "246                                                NaN   \n",
      "\n",
      "                                                  shop  \\\n",
      "0                                                  NaN   \n",
      "1    Chao cac ban,\\nShop Gau & Bi Ngo dang co chuon...   \n",
      "2                                                  NaN   \n",
      "3                                                  NaN   \n",
      "4                                                 Vâng   \n",
      "..                                                 ...   \n",
      "242                                               vâng   \n",
      "243                                                NaN   \n",
      "244                                                NaN   \n",
      "245                                                NaN   \n",
      "246                                               vâng   \n",
      "\n",
      "                                           label          fixed_time    stl  \\\n",
      "0                               1961336467264280 2018-08-11 11:08:17      0   \n",
      "1    Shop Gấu & Bí Ngô - Đồ dùng Mẹ & Bé cao cấp 2018-08-11 11:08:17      0   \n",
      "2                               1961336467264280 2018-08-11 11:08:31     14   \n",
      "3                               1961336467264280 2018-08-11 11:08:43     12   \n",
      "4    Shop Gấu & Bí Ngô - Đồ dùng Mẹ & Bé cao cấp 2018-08-11 11:09:09     26   \n",
      "..                                           ...                 ...    ...   \n",
      "242  Shop Gấu & Bí Ngô - Đồ dùng Mẹ & Bé cao cấp 2020-02-03 10:06:57      5   \n",
      "243                             1961336467264280 2020-02-03 14:25:51  15534   \n",
      "244                             1961336467264280 2020-02-03 14:26:00      9   \n",
      "245                             1961336467264280 2020-02-03 14:26:02      2   \n",
      "246  Shop Gấu & Bí Ngô - Đồ dùng Mẹ & Bé cao cấp 2020-02-03 14:26:41     39   \n",
      "\n",
      "      str_ttl                 cat  \n",
      "0    00:00:00  start_conversation  \n",
      "1    00:00:00                 NaN  \n",
      "2    00:00:14                 NaN  \n",
      "3    00:00:12                 NaN  \n",
      "4    00:00:26                 NaN  \n",
      "..        ...                 ...  \n",
      "242  00:00:05                 NaN  \n",
      "243  04:18:54  start_conversation  \n",
      "244  00:00:09                 NaN  \n",
      "245  00:00:02                 NaN  \n",
      "246  00:00:39                 NaN  \n",
      "\n",
      "[247 rows x 7 columns]\n"
     ]
    }
   ],
   "source": [
    "import pandas as pd\n",
    "df = pd.read_excel(r'C:\\Users\\ngduc\\Downloads\\conversations\\conversations\\conversations.xlsx')\n",
    "##print(df)\n"
   ]
  },
  {
   "cell_type": "code",
   "execution_count": null,
   "metadata": {},
   "outputs": [],
   "source": []
  },
  {
   "cell_type": "code",
   "execution_count": null,
   "metadata": {},
   "outputs": [],
   "source": []
  },
  {
   "cell_type": "code",
   "execution_count": null,
   "metadata": {},
   "outputs": [],
   "source": []
  },
  {
   "cell_type": "code",
   "execution_count": null,
   "metadata": {},
   "outputs": [],
   "source": []
  },
  {
   "cell_type": "code",
   "execution_count": null,
   "metadata": {},
   "outputs": [],
   "source": []
  },
  {
   "cell_type": "code",
   "execution_count": null,
   "metadata": {},
   "outputs": [],
   "source": []
  },
  {
   "cell_type": "code",
   "execution_count": null,
   "metadata": {},
   "outputs": [],
   "source": []
  },
  {
   "cell_type": "code",
   "execution_count": null,
   "metadata": {},
   "outputs": [],
   "source": []
  },
  {
   "cell_type": "code",
   "execution_count": null,
   "metadata": {},
   "outputs": [],
   "source": []
  },
  {
   "cell_type": "code",
   "execution_count": null,
   "metadata": {},
   "outputs": [],
   "source": []
  },
  {
   "cell_type": "code",
   "execution_count": null,
   "metadata": {},
   "outputs": [],
   "source": []
  },
  {
   "cell_type": "code",
   "execution_count": null,
   "metadata": {},
   "outputs": [],
   "source": []
  },
  {
   "cell_type": "code",
   "execution_count": null,
   "metadata": {},
   "outputs": [],
   "source": []
  },
  {
   "cell_type": "code",
   "execution_count": null,
   "metadata": {},
   "outputs": [],
   "source": []
  }
 ],
 "metadata": {
  "kernelspec": {
   "display_name": "Python 3",
   "language": "python",
   "name": "python3"
  },
  "language_info": {
   "codemirror_mode": {
    "name": "ipython",
    "version": 3
   },
   "file_extension": ".py",
   "mimetype": "text/x-python",
   "name": "python",
   "nbconvert_exporter": "python",
   "pygments_lexer": "ipython3",
   "version": "3.7.6"
  }
 },
 "nbformat": 4,
 "nbformat_minor": 4
}
